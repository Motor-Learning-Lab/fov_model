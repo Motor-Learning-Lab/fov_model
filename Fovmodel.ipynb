{
 "cells": [
  {
   "cell_type": "markdown",
   "metadata": {},
   "source": [
    "# FOV model\n",
    "## renew on 2024-4-1\n",
    "\n",
    "April Fool's Day Celebration Codes"
   ]
  },
  {
   "cell_type": "markdown",
   "metadata": {},
   "source": [
    "## Setup"
   ]
  },
  {
   "cell_type": "code",
   "execution_count": 6,
   "metadata": {},
   "outputs": [],
   "source": [
    "import arviz as az\n",
    "import matplotlib.pyplot as plt\n",
    "import scipy.stats as stats\n",
    "import numpy as np\n",
    "import pandas as pd\n",
    "import seaborn as sns\n",
    "import pymc as pm\n",
    "import pytensor.tensor as pt\n",
    "import random\n",
    "az.style.use(\"arviz-grayscale\")"
   ]
  },
  {
   "cell_type": "markdown",
   "metadata": {},
   "source": [
    "### Load data"
   ]
  },
  {
   "cell_type": "code",
   "execution_count": null,
   "metadata": {},
   "outputs": [],
   "source": [
    "Allfishtrial = pd.read_csv('tips.csv')\n",
    "Allfishtrial.tail()"
   ]
  },
  {
   "cell_type": "code",
   "execution_count": null,
   "metadata": {},
   "outputs": [],
   "source": [
    "BRWR_fishid = pd.Categorical(Allfishtrial['fish_id'],\n",
    "                     categories=['fish3', 'fish7', 'fish9', 'fish10']).codes\n",
    "BRWR_sessiontype = pd.Categorical(Allfishtrial['session_type'],\n",
    "                     categories=['Baseliine', 'Rotation', 'Washout', 'ReRotation']).codes\n",
    "\n",
    "\n",
    "groups_fishid = len(np.unique(BRWR_fishid))\n"
   ]
  },
  {
   "cell_type": "markdown",
   "metadata": {},
   "source": [
    "Priors calculation， should get these from raw data"
   ]
  },
  {
   "cell_type": "code",
   "execution_count": 3,
   "metadata": {},
   "outputs": [],
   "source": [
    "fish_list = [4, 6, 7, 8, 10]\n",
    "stage_list = ['baseline', 'rotation', 'washout', 'savings', 'washout 2']\n",
    "days = {'baseline': 27, 'rotation': 16, 'washout': 10, 'savings': 16, 'washout 2': 10}\n",
    "\n",
    "# Initialize an empty list to store the data\n",
    "data = []\n",
    "\n",
    "# Generate data for each fish, epoch, day, and trial\n",
    "for f in fish_list:\n",
    "    for stage in stage_list:\n",
    "        for day in range(1, days[stage] + 1):\n",
    "            num_trials = np.random.randint(4, 8)  # Randomly choose number of trials per day\n",
    "            for trial in range(1, num_trials + 1):\n",
    "                yds = np.random.normal(loc=0, scale=30)  # Generate random yds\n",
    "                data.append([f, stage, day, trial, yds])\n",
    "\n",
    "# Create a pandas DataFrame\n",
    "df = pd.DataFrame(data, columns=['fish', 'stage', 'day', 'trial', 'yds'])\n",
    "\n",
    "num_data = df.shape[0]"
   ]
  },
  {
   "cell_type": "code",
   "execution_count": 4,
   "metadata": {},
   "outputs": [
    {
     "data": {
      "text/html": [
       "<div>\n",
       "<style scoped>\n",
       "    .dataframe tbody tr th:only-of-type {\n",
       "        vertical-align: middle;\n",
       "    }\n",
       "\n",
       "    .dataframe tbody tr th {\n",
       "        vertical-align: top;\n",
       "    }\n",
       "\n",
       "    .dataframe thead th {\n",
       "        text-align: right;\n",
       "    }\n",
       "</style>\n",
       "<table border=\"1\" class=\"dataframe\">\n",
       "  <thead>\n",
       "    <tr style=\"text-align: right;\">\n",
       "      <th></th>\n",
       "      <th>fish</th>\n",
       "      <th>stage</th>\n",
       "      <th>day</th>\n",
       "      <th>trial</th>\n",
       "      <th>yds</th>\n",
       "    </tr>\n",
       "  </thead>\n",
       "  <tbody>\n",
       "    <tr>\n",
       "      <th>0</th>\n",
       "      <td>4</td>\n",
       "      <td>baseline</td>\n",
       "      <td>1</td>\n",
       "      <td>1</td>\n",
       "      <td>-13.183100</td>\n",
       "    </tr>\n",
       "    <tr>\n",
       "      <th>1</th>\n",
       "      <td>4</td>\n",
       "      <td>baseline</td>\n",
       "      <td>1</td>\n",
       "      <td>2</td>\n",
       "      <td>-16.475159</td>\n",
       "    </tr>\n",
       "    <tr>\n",
       "      <th>2</th>\n",
       "      <td>4</td>\n",
       "      <td>baseline</td>\n",
       "      <td>1</td>\n",
       "      <td>3</td>\n",
       "      <td>4.236955</td>\n",
       "    </tr>\n",
       "    <tr>\n",
       "      <th>3</th>\n",
       "      <td>4</td>\n",
       "      <td>baseline</td>\n",
       "      <td>1</td>\n",
       "      <td>4</td>\n",
       "      <td>-22.692728</td>\n",
       "    </tr>\n",
       "    <tr>\n",
       "      <th>4</th>\n",
       "      <td>4</td>\n",
       "      <td>baseline</td>\n",
       "      <td>1</td>\n",
       "      <td>5</td>\n",
       "      <td>-1.430846</td>\n",
       "    </tr>\n",
       "  </tbody>\n",
       "</table>\n",
       "</div>"
      ],
      "text/plain": [
       "   fish     stage  day  trial        yds\n",
       "0     4  baseline    1      1 -13.183100\n",
       "1     4  baseline    1      2 -16.475159\n",
       "2     4  baseline    1      3   4.236955\n",
       "3     4  baseline    1      4 -22.692728\n",
       "4     4  baseline    1      5  -1.430846"
      ]
     },
     "execution_count": 4,
     "metadata": {},
     "output_type": "execute_result"
    }
   ],
   "source": [
    "df.head()"
   ]
  },
  {
   "cell_type": "code",
   "execution_count": 5,
   "metadata": {},
   "outputs": [
    {
     "data": {
      "text/plain": [
       "2166"
      ]
     },
     "execution_count": 5,
     "metadata": {},
     "output_type": "execute_result"
    }
   ],
   "source": [
    "num_data"
   ]
  },
  {
   "cell_type": "markdown",
   "metadata": {},
   "source": [
    "## Define model"
   ]
  },
  {
   "cell_type": "markdown",
   "metadata": {},
   "source": [
    "## Priors"
   ]
  },
  {
   "cell_type": "markdown",
   "metadata": {},
   "source": [
    "### μ_μ hyper priors"
   ]
  },
  {
   "cell_type": "code",
   "execution_count": null,
   "metadata": {},
   "outputs": [],
   "source": [
    "# Priors for Aμμ\n",
    "df_avg = df.groupby(['fish', 'stage', 'day']).agg({'yds': 'mean'}).reset_index()\n",
    "\n",
    "mean_first_day = df_avg[df_avg['day'] == 0]\n",
    "max_day_indices = df_avg.groupby(['fish', 'stage'])['day'].idxmax()\n",
    "mean_last_day = df_avg.loc[max_day_indices]\n",
    "\n",
    "merged_data = pd.merge(mean_first_day, mean_last_day, on=['fish', 'stage'], suffixes=('_first', '_last'))\n",
    "merged_data['difference'] = merged_data['yds_first'] - merged_data['yds_last']\n",
    "\n",
    "μ_Aμμ = merged_data['difference'].mean()\n",
    "σ_Aμμ = merged_data['difference'].std()\n",
    "\n",
    "\n",
    "# Priors for τ_μμ\n",
    "merged_data['halfway_yds'] = (merged_data['yds_first'] + merged_data['yds_last']) / 2\n",
    "df_avg_below_halfway = df_avg[df_avg['yds'] < merged_data['halfway_yds']].groupby(['fish', 'stage']).agg({'day': 'first'}).reset_index()\n",
    "\n",
    "μ_τμμ = df_avg_below_halfway['day'].mean()\n",
    "σ_τμμ = df_avg_below_halfway['day'].std()\n",
    "\n",
    "\n",
    "# Priors for μ_μ∞\n",
    "μ_μμ∞ = last_day_yds['yds'].mean()\n",
    "σ_μμ∞ = last_day_yds['yds'].std()\n"
   ]
  },
  {
   "cell_type": "markdown",
   "metadata": {},
   "source": [
    "### σ_μ hyper priors"
   ]
  },
  {
   "cell_type": "code",
   "execution_count": null,
   "metadata": {},
   "outputs": [],
   "source": [
    "# Priors for Aσμ\n",
    "σ_Aσμ = merged_data['difference'].std()\n",
    "\n",
    "\n",
    "# Priors for τ_σμ\n",
    "# Assume timing is similar to the changes in the mean, we can use the saame priors\n",
    "μ_τσμ = μ_τμμ\n",
    "σ_τσμ = σ_τμμ\n",
    "\n",
    "\n",
    "# Priors for σ_μ∞\n",
    "σ_σμ∞ = std_last_day_yds\n"
   ]
  },
  {
   "cell_type": "markdown",
   "metadata": {},
   "source": [
    "### μ_σ hyper priors"
   ]
  },
  {
   "cell_type": "code",
   "execution_count": null,
   "metadata": {},
   "outputs": [],
   "source": [
    "# Priors for Aμσ\n",
    "df_std = df.groupby(['fish', 'stage', 'day']).agg({'yds': 'std'}).reset_index()\n",
    "df_std.rename(columns={'yds': 'std_yds'}, inplace=True)\n",
    "\n",
    "std_first_day = df_std[df_std['day'] == 0]\n",
    "last_day_indices = df_std.groupby(['fish', 'stage'])['day'].idmax()\n",
    "std_last_day = df_std.loc[last_day_indices]\n",
    "\n",
    "merged_std = pd.merge(std_first_day, std_last_day, on=['fish', 'stage'], suffixes=('_first', '_last'))\n",
    "merged_std['std_diff'] = merged_std['std_yds_last'] - merged_std['std_yds_first']\n",
    "\n",
    "μ_Aμσ = merged_std['std_diff'].mean()\n",
    "σ_Aμσ = merged_std['std_diff'].std()\n",
    "\n",
    "\n",
    "# Priors for τ_μσ\n",
    "merged_std['halfway_std'] = (merged_std['std_yds_first'] + merged_std['std_yds_last']) / 2\n",
    "std_less_than_halfway = df_std[df_std['std_yds'] < df_std['halfway_std']].groupby(['fish', 'stage']).agg({'day': 'min'}).reset_index()\n",
    "\n",
    "μ_τμσ = std_less_than_halfway['day'].mean()\n",
    "σ_τμσ = std_less_than_halfway['day'].std()\n",
    "\n",
    "\n",
    "# Priors for μ_σ∞\n",
    "μ_μσ∞ = std_last_day.mean()\n",
    "σ_μσ∞ = std_last_day.std()"
   ]
  },
  {
   "cell_type": "markdown",
   "metadata": {},
   "source": [
    "### σ_σ hyper priors"
   ]
  },
  {
   "cell_type": "code",
   "execution_count": null,
   "metadata": {},
   "outputs": [],
   "source": [
    "# Priors for Aσσ\n",
    "σ_Aσσ = merged_std['std_diff'].std()\n",
    "\n",
    "\n",
    "# Priors for τ_σσ\n",
    "μ_τσμ = μ_τμσ\n",
    "σ_τσμ = μ_τμσ\n",
    "\n",
    "\n",
    "# Priors for σ_μ∞\n",
    "σ_σμ∞ = std_last_day_yds"
   ]
  },
  {
   "cell_type": "code",
   "execution_count": null,
   "metadata": {},
   "outputs": [],
   "source": [
    "coords = {\n",
    "    \"fish\": fish_list,\n",
    "    \"stages\": stage_list,\n",
    "    \"data\": np.arange(num_data),\n",
    "}\n",
    "\n",
    "with pm.Model(coords=coords) as FovMV:\n",
    "### level 4: Priors for μ_μ, μ_σ, σ_μ, σ_σ\n",
    "    A_μμ = pm.Normal('A_μμ', mu=μ_Aμμ, sigma=σ_Aμμ)\n",
    "    τ_μμ = pm.Gamma('τ_μμ', mu=μ_τμμ, sigma=σ_τμμ)\n",
    "    μ_μ∞ = pm.Normal('A_μμ', mu=μ_μμ∞, sigma=σ_μμ∞)\n",
    "\n",
    "    A_σμ = pm.HalfNormal('A_μμ', sigma=σ_Aσμ)\n",
    "    τ_σμ = pm.Gamma('τ_μμ', mu=μ_τσμ, sigma=σ_τσμ)\n",
    "    σ_μ∞ = pm.HalfNormal('A_μμ', sigma=σ_σμ∞)\n",
    "\n",
    "    A_μσ = pm.Normal('A_μμ', mu=μ_Aμμ, sigma=σ_Aμμ)\n",
    "    τ_μσ = pm.Gamma('τ_μμ', mu=μ_τμμ, sigma=σ_τμμ)\n",
    "    μ_σ∞ = pm.Normal('A_μμ', mu=μ_μσ∞, sigma=σ_μσ∞)\n",
    "\n",
    "    A_σσ = pm.HalfNormal('A_μμ', sigma=σ_Aμμ)\n",
    "    τ_σσ = pm.Gamma('τ_μμ', mu=μ_τμμ, sigma=σ_τμμ)\n",
    "    σ_σ∞ = pm.HalfNormal('A_μμ', sigma=σ_σσ∞)\n",
    "\n",
    "\n",
    "### level 3: Regression equations for μ and σ\n",
    "    μ_μ = pm.Deterministic('μ_μ', A_μμ*pm.math.exp(-day_ / τ_μμ) + μ_μ∞ , shape=(fish, stages))\n",
    "    σ_μ = pm.Deterministic('σ_μ', A_σμ*pm.math.exp(-day_ / τ_σμ) + σ_μ∞ shape=(fish, stages))\n",
    "    μ_σ = pm.Deterministic('μ_σ', A_μσ*pm.math.exp(-day_ / τ_μσ) + μ_σ∞, shape=(fish, stages))\n",
    "    σ_σ = pm.Deterministic('σ_σ', A_σσ*pm.math.exp(-day_ / τ_σσ) + σ_σ∞ shape=(fish, stages))\n",
    "\n",
    "### level 2: Priors for the likelihood\n",
    "    μ = pm.Normal('μ', mu=μ_μ[fish_,stage_], sigma=σ_μ[fish_,stage_], shape=data)    \n",
    "    σ = pm.Gamma('σ', mu=μ_σ[fish_,stage_], sigma=σ_σ[fish_,stage_], shape=data)\n",
    "    ν = pm.Exponential('ν', lam=1/μ_νy)\n",
    "    \n",
    "### data likelihood level 1\n",
    "    y = pm.StudentT('y', mu=μ, sigma=σ, nu=ν, observed=Allfishtrial, shape=data)\n"
   ]
  },
  {
   "cell_type": "markdown",
   "metadata": {},
   "source": [
    "## Set up all the conditions"
   ]
  },
  {
   "cell_type": "code",
   "execution_count": null,
   "metadata": {},
   "outputs": [],
   "source": []
  },
  {
   "cell_type": "markdown",
   "metadata": {},
   "source": [
    "## Generate samples"
   ]
  },
  {
   "cell_type": "code",
   "execution_count": null,
   "metadata": {},
   "outputs": [],
   "source": []
  },
  {
   "cell_type": "code",
   "execution_count": null,
   "metadata": {},
   "outputs": [],
   "source": []
  },
  {
   "cell_type": "code",
   "execution_count": null,
   "metadata": {},
   "outputs": [],
   "source": [
    "%load_ext watermark\n",
    "%watermark -v -iv -w"
   ]
  }
 ],
 "metadata": {
  "kernelspec": {
   "display_name": "pymc_env",
   "language": "python",
   "name": "python3"
  },
  "language_info": {
   "codemirror_mode": {
    "name": "ipython",
    "version": 3
   },
   "file_extension": ".py",
   "mimetype": "text/x-python",
   "name": "python",
   "nbconvert_exporter": "python",
   "pygments_lexer": "ipython3",
   "version": "3.11.7"
  }
 },
 "nbformat": 4,
 "nbformat_minor": 2
}
